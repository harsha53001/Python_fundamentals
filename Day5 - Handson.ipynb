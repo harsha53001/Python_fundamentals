{
 "cells": [
  {
   "cell_type": "code",
   "execution_count": 6,
   "metadata": {},
   "outputs": [
    {
     "name": "stdout",
     "output_type": "stream",
     "text": [
      "Example using reverse function:\n",
      "['harsha', 'vardhan', 'surreddi']\n",
      "\n",
      "Example for for loop:\n",
      "harsha\n",
      "vardhan\n",
      "surreddi\n",
      "\n",
      "No. of elements in the list:\n"
     ]
    },
    {
     "data": {
      "text/plain": [
       "3"
      ]
     },
     "execution_count": 6,
     "metadata": {},
     "output_type": "execute_result"
    }
   ],
   "source": [
    "students = ['surreddi','vardhan','harsha']\n",
    "print(\"Example using reverse function:\")\n",
    "students.reverse()\n",
    "print (students)\n",
    "\n",
    "print(\"\\nExample for for loop:\")\n",
    "for a in students:\n",
    "    print(a)\n",
    "\n",
    "print(\"\\nNo. of elements in the list:\")\n",
    "len(students)"
   ]
  },
  {
   "cell_type": "code",
   "execution_count": null,
   "metadata": {},
   "outputs": [],
   "source": []
  }
 ],
 "metadata": {
  "kernelspec": {
   "display_name": "Python 3",
   "language": "python",
   "name": "python3"
  },
  "language_info": {
   "codemirror_mode": {
    "name": "ipython",
    "version": 3
   },
   "file_extension": ".py",
   "mimetype": "text/x-python",
   "name": "python",
   "nbconvert_exporter": "python",
   "pygments_lexer": "ipython3",
   "version": "3.7.4"
  }
 },
 "nbformat": 4,
 "nbformat_minor": 2
}
