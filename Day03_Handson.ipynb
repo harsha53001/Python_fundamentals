{
 "cells": [
  {
   "cell_type": "code",
   "execution_count": 45,
   "metadata": {},
   "outputs": [
    {
     "name": "stdout",
     "output_type": "stream",
     "text": [
      "Performing math functions\n",
      " Sum: \t7.7 \n",
      " Diff: \t-3.7 \n",
      " P(2): \t4 \n",
      " P(3): \t8 \n",
      " P(5): \t32\n",
      "\n",
      "This Developer's \n",
      "\tFirst Name: \tHarsha\n",
      "\tMiddle Name: \tVardhan\n",
      "\tLast Name: \tSurreddi\n"
     ]
    }
   ],
   "source": [
    "# Practice on Handling whitespace ,Intergers , Float , list and list indexing\n",
    "a=2;b=3;c=5.7;Message=['harsha','vardhan','surreddi']\n",
    "Message=f\" Performing math functions\\n Sum: \\t{a+c} \\n Diff: \\t{a-c} \\n P(2): \\t{a**2} \\n P(3): \\t{a**3} \\n P(5): \\t{a**5}\\n\\nThis Developer's \\n\\tFirst Name: \\t{Message[0].title()}\\n\\tMiddle Name: \\t{Message[1].title()}\\n\\tLast Name: \\t{Message[2].title()}\"\n",
    "print(Message.strip())"
   ]
  },
  {
   "cell_type": "code",
   "execution_count": null,
   "metadata": {},
   "outputs": [],
   "source": []
  }
 ],
 "metadata": {
  "kernelspec": {
   "display_name": "Python 3",
   "language": "python",
   "name": "python3"
  },
  "language_info": {
   "codemirror_mode": {
    "name": "ipython",
    "version": 3
   },
   "file_extension": ".py",
   "mimetype": "text/x-python",
   "name": "python",
   "nbconvert_exporter": "python",
   "pygments_lexer": "ipython3",
   "version": "3.7.4"
  }
 },
 "nbformat": 4,
 "nbformat_minor": 2
}
