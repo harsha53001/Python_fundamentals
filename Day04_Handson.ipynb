{
 "cells": [
  {
   "cell_type": "code",
   "execution_count": 50,
   "metadata": {},
   "outputs": [
    {
     "name": "stdout",
     "output_type": "stream",
     "text": [
      "Sample Data -->  ['z', 'm', 'o', 's', 'a', 'e']\n",
      "\n",
      "Append Example -->  ['z', 'm', 'o', 's', 'a', 'e', 'HARSHA']\n",
      "Modifed 1st element in a list --> ['z', 'Surreddi', 'o', 's', 'a', 'e', 'HARSHA']\n",
      "Inserted new element in 3rd posistion -->  ['z', 'Surreddi', 'o', 'Vardhan', 's', 'a', 'e', 'HARSHA']\n",
      "Delete 7th element fron the list -->  ['z', 'Surreddi', 'o', 'Vardhan', 's', 'a', 'e']\n",
      "\n",
      "pop() deletes the last element in the list --> ['z', 'Surreddi', 'o', 'Vardhan', 's', 'a']\n",
      "pop(0) delete the oth element from the list -->  ['Surreddi', 'o', 'Vardhan', 's', 'a']\n",
      "\n",
      "Sort data in the list using sorted() -->  ['Surreddi', 'Vardhan', 'a', 'o', 's']\n",
      "Checking the data after using sorted() -->  ['Surreddi', 'o', 'Vardhan', 's', 'a']\n",
      "\n",
      "Sort data in the list using sort() -->  None\n",
      "Checking the data after using sort() -->  ['Surreddi', 'Vardhan', 'a', 'o', 's']\n"
     ]
    }
   ],
   "source": [
    "students=['z','m','o','s','a','e']; print ('Sample Data --> ',students)\n",
    "\n",
    "#Modify , insert and Delete functions\n",
    "students.append('HARSHA');          print ('\\nAppend Example --> ',students)\n",
    "students[1]='Surreddi';             print(\"Modifed 1st element in a list -->\", students)\n",
    "students.insert(3,'Vardhan');       print(\"Inserted new element in 3rd posistion --> \",students)\n",
    "del students[7];                    print(\"Delete 7th element fron the list --> \",students)\n",
    "\n",
    "#Delete the data using pop()\n",
    "students.pop();                     print(\"\\npop() deletes the last element in the list -->\", students)\n",
    "students.pop(0);                    print(\"pop(0) delete the oth element from the list --> \", students)\n",
    "\n",
    "#Sorted example\n",
    "print('\\nSort data in the list using sorted() --> ', sorted(students))\n",
    "print('Checking the data after using sorted() --> ', students)\n",
    "\n",
    "#Sort example\n",
    "print('\\nSort data in the list using sort() --> ', students.sort())\n",
    "print('Checking the data after using sort() --> ', students)\n"
   ]
  },
  {
   "cell_type": "code",
   "execution_count": null,
   "metadata": {},
   "outputs": [],
   "source": []
  }
 ],
 "metadata": {
  "kernelspec": {
   "display_name": "Python 3",
   "language": "python",
   "name": "python3"
  },
  "language_info": {
   "codemirror_mode": {
    "name": "ipython",
    "version": 3
   },
   "file_extension": ".py",
   "mimetype": "text/x-python",
   "name": "python",
   "nbconvert_exporter": "python",
   "pygments_lexer": "ipython3",
   "version": "3.7.4"
  }
 },
 "nbformat": 4,
 "nbformat_minor": 2
}
