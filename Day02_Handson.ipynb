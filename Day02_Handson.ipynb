{
 "cells": [
  {
   "cell_type": "code",
   "execution_count": 3,
   "metadata": {},
   "outputs": [
    {
     "name": "stdout",
     "output_type": "stream",
     "text": [
      "My full name is : HARSHA VARDHAN SURREDDI\n",
      "My full name is : harsha vardhan surreddi\n",
      "My full name is : Harsha Vardhan Surreddi\n"
     ]
    }
   ],
   "source": [
    "f_name='Harsha'\n",
    "m_name='vardhan'\n",
    "l_name='surreddi'\n",
    "\n",
    "ufull_name=f\"My full name is : {f_name.upper()} {m_name.upper()} {l_name.upper()}\"\n",
    "lfull_name=f\"My full name is : {f_name.lower()} {m_name.lower()} {l_name.lower()}\"\n",
    "ifull_name=f\"My full name is : {f_name.title()} {m_name.title()} {l_name.title()}\"\n",
    "\n",
    "print(ufull_name)\n",
    "print(lfull_name)\n",
    "print(ifull_name)"
   ]
  }
 ],
 "metadata": {
  "kernelspec": {
   "display_name": "Python 3",
   "language": "python",
   "name": "python3"
  },
  "language_info": {
   "codemirror_mode": {
    "name": "ipython",
    "version": 3
   },
   "file_extension": ".py",
   "mimetype": "text/x-python",
   "name": "python",
   "nbconvert_exporter": "python",
   "pygments_lexer": "ipython3",
   "version": "3.7.4"
  }
 },
 "nbformat": 4,
 "nbformat_minor": 2
}
